{
 "cells": [
  {
   "cell_type": "code",
   "execution_count": 2,
   "metadata": {},
   "outputs": [],
   "source": [
    "# Saving my account\n",
    "from qiskit_ibm_runtime import QiskitRuntimeService\n",
    "QiskitRuntimeService.save_account(channel=\"ibm_quantum\", token='eb5fe0c762d132091c285adbdf47491c759652b945d84205fabb6ba26180b8dc9d306b1346316957be8621ebe0cc47cbdc13867c566df1b01ad9a0e4da08b4f4')"
   ]
  },
  {
   "cell_type": "markdown",
   "metadata": {},
   "source": [
    "# Using my computer as a simulator for a basic quantum circuit"
   ]
  },
  {
   "cell_type": "code",
   "execution_count": 3,
   "metadata": {},
   "outputs": [
    {
     "name": "stdout",
     "output_type": "stream",
     "text": [
      "Resultant probability distribution: {'00': 0.4999999999999999, '11': 0.4999999999999999}\n"
     ]
    },
    {
     "data": {
      "image/png": "[encoded data removed]",
      "text/plain": [
       "<Figure size 454.517x284.278 with 1 Axes>"
      ]
     },
     "execution_count": 3,
     "metadata": {},
     "output_type": "execute_result"
    }
   ],
   "source": [
    "from qiskit import QuantumCircuit\n",
    "from qiskit.primitives import Sampler as QS\n",
    "\n",
    "circuit = QuantumCircuit(2,2) # 2 qubits, 2 classical bits.\n",
    "circuit.h(0) # Adding a H gate to qubit 0 (the gate that continuously allows the bits to exist in superposition)\n",
    "circuit.cx(0, 1) # Mapping CX i.e. CNOT gate on control Qbit 0 and target qbit 1. So if q0 is at 0, 1 will be at 0. But if q0 is at 1, 1 becomes 1.\n",
    "circuit.measure([0,1], [0,1]) # Measuring the qubits and storing the result in classical bits 0 and 1.\n",
    "\n",
    "sampler = QS()\n",
    "job = sampler.run(circuit)\n",
    "\n",
    "# Note: binary_probabilitiies() ensures that the probabilities (00 and 11) are shown in binary rather than decimal numbers\n",
    "probability = job.result().quasi_dists[0].binary_probabilities()\n",
    "print(f\"Resultant probability distribution: {probability}\")\n",
    "\n",
    "# Plotting the circuit\n",
    "circuit.draw(output='mpl')"
   ]
  },
  {
   "cell_type": "markdown",
   "metadata": {},
   "source": [
    "# On a real device, with the probability of noise:"
   ]
  },
  {
   "cell_type": "code",
   "execution_count": 4,
   "metadata": {},
   "outputs": [
    {
     "ename": "AccountNotFoundError",
     "evalue": "'No default ibm_cloud account saved.'",
     "output_type": "error",
     "traceback": [
      "\u001b[1;31m---------------------------------------------------------------------------\u001b[0m",
      "\u001b[1;31mAccountNotFoundError\u001b[0m                      Traceback (most recent call last)",
      "Cell \u001b[1;32mIn[4], line 5\u001b[0m\n\u001b[0;32m      2\u001b[0m \u001b[39mfrom\u001b[39;00m \u001b[39mqiskit_ibm_runtime\u001b[39;00m \u001b[39mimport\u001b[39;00m QiskitRuntimeService\n\u001b[0;32m      4\u001b[0m service \u001b[39m=\u001b[39m QiskitRuntimeService(channel\u001b[39m=\u001b[39m\u001b[39m'\u001b[39m\u001b[39mibm_quantum\u001b[39m\u001b[39m'\u001b[39m)\n\u001b[1;32m----> 5\u001b[0m service2 \u001b[39m=\u001b[39m QiskitRuntimeService(channel\u001b[39m=\u001b[39;49m\u001b[39m'\u001b[39;49m\u001b[39mibm_cloud\u001b[39;49m\u001b[39m'\u001b[39;49m)\n\u001b[0;32m      7\u001b[0m \u001b[39mprint\u001b[39m(\u001b[39mf\u001b[39m\u001b[39m\"\u001b[39m\u001b[39m{\u001b[39;00mservice\u001b[39m.\u001b[39mbackends()\u001b[39m}\u001b[39;00m\u001b[39m\\n\u001b[39;00m\u001b[39m\\n\u001b[39;00m\u001b[39m{\u001b[39;00mservice2\u001b[39m.\u001b[39mbackends()\u001b[39m}\u001b[39;00m\u001b[39m\"\u001b[39m)\n",
      "File \u001b[1;32mc:\\Users\\hifia\\AppData\\Local\\Programs\\Python\\Python311\\Lib\\site-packages\\qiskit_ibm_runtime\\qiskit_runtime_service.py:173\u001b[0m, in \u001b[0;36mQiskitRuntimeService.__init__\u001b[1;34m(self, channel, token, url, filename, name, instance, proxies, verify)\u001b[0m\n\u001b[0;32m    132\u001b[0m \u001b[39m\u001b[39m\u001b[39m\"\"\"QiskitRuntimeService constructor\u001b[39;00m\n\u001b[0;32m    133\u001b[0m \n\u001b[0;32m    134\u001b[0m \u001b[39mAn account is selected in the following order:\u001b[39;00m\n\u001b[1;32m   (...)\u001b[0m\n\u001b[0;32m    169\u001b[0m \u001b[39m    IBMInputValueError: If an input is invalid.\u001b[39;00m\n\u001b[0;32m    170\u001b[0m \u001b[39m\"\"\"\u001b[39;00m\n\u001b[0;32m    171\u001b[0m \u001b[39msuper\u001b[39m()\u001b[39m.\u001b[39m\u001b[39m__init__\u001b[39m()\n\u001b[1;32m--> 173\u001b[0m \u001b[39mself\u001b[39m\u001b[39m.\u001b[39m_account \u001b[39m=\u001b[39m \u001b[39mself\u001b[39;49m\u001b[39m.\u001b[39;49m_discover_account(\n\u001b[0;32m    174\u001b[0m     token\u001b[39m=\u001b[39;49mtoken,\n\u001b[0;32m    175\u001b[0m     url\u001b[39m=\u001b[39;49murl,\n\u001b[0;32m    176\u001b[0m     instance\u001b[39m=\u001b[39;49minstance,\n\u001b[0;32m    177\u001b[0m     channel\u001b[39m=\u001b[39;49mchannel,\n\u001b[0;32m    178\u001b[0m     filename\u001b[39m=\u001b[39;49mfilename,\n\u001b[0;32m    179\u001b[0m     name\u001b[39m=\u001b[39;49mname,\n\u001b[0;32m    180\u001b[0m     proxies\u001b[39m=\u001b[39;49mProxyConfiguration(\u001b[39m*\u001b[39;49m\u001b[39m*\u001b[39;49mproxies) \u001b[39mif\u001b[39;49;00m proxies \u001b[39melse\u001b[39;49;00m \u001b[39mNone\u001b[39;49;00m,\n\u001b[0;32m    181\u001b[0m     verify\u001b[39m=\u001b[39;49mverify,\n\u001b[0;32m    182\u001b[0m )\n\u001b[0;32m    184\u001b[0m \u001b[39mself\u001b[39m\u001b[39m.\u001b[39m_client_params \u001b[39m=\u001b[39m ClientParameters(\n\u001b[0;32m    185\u001b[0m     channel\u001b[39m=\u001b[39m\u001b[39mself\u001b[39m\u001b[39m.\u001b[39m_account\u001b[39m.\u001b[39mchannel,\n\u001b[0;32m    186\u001b[0m     token\u001b[39m=\u001b[39m\u001b[39mself\u001b[39m\u001b[39m.\u001b[39m_account\u001b[39m.\u001b[39mtoken,\n\u001b[1;32m   (...)\u001b[0m\n\u001b[0;32m    190\u001b[0m     verify\u001b[39m=\u001b[39m\u001b[39mself\u001b[39m\u001b[39m.\u001b[39m_account\u001b[39m.\u001b[39mverify,\n\u001b[0;32m    191\u001b[0m )\n\u001b[0;32m    193\u001b[0m \u001b[39mself\u001b[39m\u001b[39m.\u001b[39m_channel \u001b[39m=\u001b[39m \u001b[39mself\u001b[39m\u001b[39m.\u001b[39m_account\u001b[39m.\u001b[39mchannel\n",
      "File \u001b[1;32mc:\\Users\\hifia\\AppData\\Local\\Programs\\Python\\Python311\\Lib\\site-packages\\qiskit_ibm_runtime\\qiskit_runtime_service.py:269\u001b[0m, in \u001b[0;36mQiskitRuntimeService._discover_account\u001b[1;34m(self, token, url, instance, channel, auth, filename, name, proxies, verify)\u001b[0m\n\u001b[0;32m    267\u001b[0m         \u001b[39mif\u001b[39;00m url:\n\u001b[0;32m    268\u001b[0m             logger\u001b[39m.\u001b[39mwarning(\u001b[39m\"\u001b[39m\u001b[39mLoading default \u001b[39m\u001b[39m%s\u001b[39;00m\u001b[39m account. Input \u001b[39m\u001b[39m'\u001b[39m\u001b[39murl\u001b[39m\u001b[39m'\u001b[39m\u001b[39m is ignored.\u001b[39m\u001b[39m\"\u001b[39m, channel)\n\u001b[1;32m--> 269\u001b[0m         account \u001b[39m=\u001b[39m AccountManager\u001b[39m.\u001b[39;49mget(filename\u001b[39m=\u001b[39;49mfilename, name\u001b[39m=\u001b[39;49mname, channel\u001b[39m=\u001b[39;49mchannel)\n\u001b[0;32m    270\u001b[0m \u001b[39melif\u001b[39;00m \u001b[39many\u001b[39m([token, url]):\n\u001b[0;32m    271\u001b[0m     \u001b[39m# Let's not infer based on these attributes as they may change in the future.\u001b[39;00m\n\u001b[0;32m    272\u001b[0m     \u001b[39mraise\u001b[39;00m \u001b[39mValueError\u001b[39;00m(\n\u001b[0;32m    273\u001b[0m         \u001b[39m\"\u001b[39m\u001b[39m'\u001b[39m\u001b[39mchannel\u001b[39m\u001b[39m'\u001b[39m\u001b[39m or \u001b[39m\u001b[39m'\u001b[39m\u001b[39mauth\u001b[39m\u001b[39m'\u001b[39m\u001b[39m is required if \u001b[39m\u001b[39m'\u001b[39m\u001b[39mtoken\u001b[39m\u001b[39m'\u001b[39m\u001b[39m, or \u001b[39m\u001b[39m'\u001b[39m\u001b[39murl\u001b[39m\u001b[39m'\u001b[39m\u001b[39m is specified but \u001b[39m\u001b[39m'\u001b[39m\u001b[39mname\u001b[39m\u001b[39m'\u001b[39m\u001b[39m is not.\u001b[39m\u001b[39m\"\u001b[39m\n\u001b[0;32m    274\u001b[0m     )\n",
      "File \u001b[1;32mc:\\Users\\hifia\\AppData\\Local\\Programs\\Python\\Python311\\Lib\\site-packages\\qiskit_ibm_runtime\\accounts\\management.py:171\u001b[0m, in \u001b[0;36mAccountManager.get\u001b[1;34m(cls, filename, name, channel)\u001b[0m\n\u001b[0;32m    169\u001b[0m         \u001b[39mif\u001b[39;00m os\u001b[39m.\u001b[39mpath\u001b[39m.\u001b[39misfile(_QISKITRC_CONFIG_FILE):\n\u001b[0;32m    170\u001b[0m             \u001b[39mreturn\u001b[39;00m \u001b[39mcls\u001b[39m\u001b[39m.\u001b[39m_from_qiskitrc_file()\n\u001b[1;32m--> 171\u001b[0m         \u001b[39mraise\u001b[39;00m AccountNotFoundError(\u001b[39mf\u001b[39m\u001b[39m\"\u001b[39m\u001b[39mNo default \u001b[39m\u001b[39m{\u001b[39;00mchannel\u001b[39m}\u001b[39;00m\u001b[39m account saved.\u001b[39m\u001b[39m\"\u001b[39m)\n\u001b[0;32m    172\u001b[0m     \u001b[39mreturn\u001b[39;00m Account\u001b[39m.\u001b[39mfrom_saved_format(saved_account)\n\u001b[0;32m    174\u001b[0m all_config \u001b[39m=\u001b[39m read_config(filename\u001b[39m=\u001b[39mfilename)\n",
      "\u001b[1;31mAccountNotFoundError\u001b[0m: 'No default ibm_cloud account saved.'"
     ]
    }
   ],
   "source": [
    "# View backend options\n",
    "from qiskit_ibm_runtime import QiskitRuntimeService\n",
    "\n",
    "service = QiskitRuntimeService(channel='ibm_quantum')\n",
    "service2 = QiskitRuntimeService(channel='ibm_cloud')\n",
    "\n",
    "print(f\"{service.backends()}\\n\\n{service2.backends()}\")"
   ]
  }
 ],
 "metadata": {
  "kernelspec": {
   "display_name": "Python 3",
   "language": "python",
   "name": "python3"
  },
  "language_info": {
   "codemirror_mode": {
    "name": "ipython",
    "version": 3
   },
   "file_extension": ".py",
   "mimetype": "text/x-python",
   "name": "python",
   "nbconvert_exporter": "python",
   "pygments_lexer": "ipython3",
   "version": "3.11.4"
  },
  "orig_nbformat": 4
 },
 "nbformat": 4,
 "nbformat_minor": 2
}
